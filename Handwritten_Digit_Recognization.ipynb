{
  "nbformat": 4,
  "nbformat_minor": 0,
  "metadata": {
    "colab": {
      "provenance": []
    },
    "kernelspec": {
      "name": "python3",
      "display_name": "Python 3"
    },
    "language_info": {
      "name": "python"
    },
    "accelerator": "GPU",
    "gpuClass": "standard"
  },
  "cells": [
    {
      "cell_type": "markdown",
      "source": [
        "# ***Handwritten Digit Recognization Task -CodeClause AI-Intern***\n",
        "## ***Importing Important libraries***"
      ],
      "metadata": {
        "id": "PJZ9pdxjt2nQ"
      }
    },
    {
      "cell_type": "code",
      "execution_count": 1,
      "metadata": {
        "id": "k2DJ4jwhu4Qi"
      },
      "outputs": [],
      "source": [
        "import tensorflow as tf\n",
        "import matplotlib.pyplot as plt\n",
        "%matplotlib inline\n",
        "import numpy as np\n",
        "from tensorflow.keras.models import Sequential\n",
        "from tensorflow.keras.layers import Dense, Dropout, Activation, Flatten, Conv2D, MaxPooling2D"
      ]
    },
    {
      "cell_type": "markdown",
      "source": [
        "### ***Loading mnist dataset from tensorflow***"
      ],
      "metadata": {
        "id": "3YToFQWAuWq9"
      }
    },
    {
      "cell_type": "code",
      "source": [
        "#The dataset is 60,000 training, 10,000 testing\n",
        "mnist= tf.keras.datasets.mnist"
      ],
      "metadata": {
        "id": "g7YebyboyxZC"
      },
      "execution_count": 2,
      "outputs": []
    },
    {
      "cell_type": "code",
      "source": [
        "#Splitting the data intro training, testing\n",
        "(x_train, y_train),(x_test,y_test)=mnist.load_data()"
      ],
      "metadata": {
        "colab": {
          "base_uri": "https://localhost:8080/"
        },
        "id": "VUumweJV3GoL",
        "outputId": "9522a371-784e-4b62-ff34-9ea33083d6bf"
      },
      "execution_count": 3,
      "outputs": [
        {
          "output_type": "stream",
          "name": "stdout",
          "text": [
            "Downloading data from https://storage.googleapis.com/tensorflow/tf-keras-datasets/mnist.npz\n",
            "11490434/11490434 [==============================] - 2s 0us/step\n"
          ]
        }
      ]
    },
    {
      "cell_type": "code",
      "source": [
        "x_train.shape"
      ],
      "metadata": {
        "colab": {
          "base_uri": "https://localhost:8080/"
        },
        "id": "BNitFwU_3-AU",
        "outputId": "a6e1830e-a63e-404c-db94-c4d113930a96"
      },
      "execution_count": 4,
      "outputs": [
        {
          "output_type": "execute_result",
          "data": {
            "text/plain": [
              "(60000, 28, 28)"
            ]
          },
          "metadata": {},
          "execution_count": 4
        }
      ]
    },
    {
      "cell_type": "markdown",
      "source": [
        "### ***Visualizing the training data***"
      ],
      "metadata": {
        "id": "vWIoXiODu753"
      }
    },
    {
      "cell_type": "code",
      "source": [
        "plt.imshow(x_train[0])\n",
        "plt.show()\n",
        "plt.imshow(x_train[0],cmap=plt.cm.binary);"
      ],
      "metadata": {
        "colab": {
          "base_uri": "https://localhost:8080/",
          "height": 513
        },
        "id": "u4GychnD4DwG",
        "outputId": "aeaffef1-a7fa-4b7d-8b2c-a1ad53918956"
      },
      "execution_count": 7,
      "outputs": [
        {
          "output_type": "display_data",
          "data": {
            "text/plain": [
              "<Figure size 432x288 with 1 Axes>"
            ],
            "image/png": "[encoded data removed]"
          },
          "metadata": {
            "needs_background": "light"
          }
        },
        {
          "output_type": "display_data",
          "data": {
            "text/plain": [
              "<Figure size 432x288 with 1 Axes>"
            ],
            "image/png": "[encoded data removed]"
          },
          "metadata": {
            "needs_background": "light"
          }
        }
      ]
    },
    {
      "cell_type": "code",
      "source": [
        "print(x_train[0])"
      ],
      "metadata": {
        "colab": {
          "base_uri": "https://localhost:8080/"
        },
        "id": "SFU6wIgq40kH",
        "outputId": "aaabd92c-fbb9-48a1-df09-0fabc83fcd7b"
      },
      "execution_count": 8,
      "outputs": [
        {
          "output_type": "stream",
          "name": "stdout",
          "text": [
            "[[  0   0   0   0   0   0   0   0   0   0   0   0   0   0   0   0   0   0\n",
            "    0   0   0   0   0   0   0   0   0   0]\n",
            " [  0   0   0   0   0   0   0   0   0   0   0   0   0   0   0   0   0   0\n",
            "    0   0   0   0   0   0   0   0   0   0]\n",
            " [  0   0   0   0   0   0   0   0   0   0   0   0   0   0   0   0   0   0\n",
            "    0   0   0   0   0   0   0   0   0   0]\n",
            " [  0   0   0   0   0   0   0   0   0   0   0   0   0   0   0   0   0   0\n",
            "    0   0   0   0   0   0   0   0   0   0]\n",
            " [  0   0   0   0   0   0   0   0   0   0   0   0   0   0   0   0   0   0\n",
            "    0   0   0   0   0   0   0   0   0   0]\n",
            " [  0   0   0   0   0   0   0   0   0   0   0   0   3  18  18  18 126 136\n",
            "  175  26 166 255 247 127   0   0   0   0]\n",
            " [  0   0   0   0   0   0   0   0  30  36  94 154 170 253 253 253 253 253\n",
            "  225 172 253 242 195  64   0   0   0   0]\n",
            " [  0   0   0   0   0   0   0  49 238 253 253 253 253 253 253 253 253 251\n",
            "   93  82  82  56  39   0   0   0   0   0]\n",
            " [  0   0   0   0   0   0   0  18 219 253 253 253 253 253 198 182 247 241\n",
            "    0   0   0   0   0   0   0   0   0   0]\n",
            " [  0   0   0   0   0   0   0   0  80 156 107 253 253 205  11   0  43 154\n",
            "    0   0   0   0   0   0   0   0   0   0]\n",
            " [  0   0   0   0   0   0   0   0   0  14   1 154 253  90   0   0   0   0\n",
            "    0   0   0   0   0   0   0   0   0   0]\n",
            " [  0   0   0   0   0   0   0   0   0   0   0 139 253 190   2   0   0   0\n",
            "    0   0   0   0   0   0   0   0   0   0]\n",
            " [  0   0   0   0   0   0   0   0   0   0   0  11 190 253  70   0   0   0\n",
            "    0   0   0   0   0   0   0   0   0   0]\n",
            " [  0   0   0   0   0   0   0   0   0   0   0   0  35 241 225 160 108   1\n",
            "    0   0   0   0   0   0   0   0   0   0]\n",
            " [  0   0   0   0   0   0   0   0   0   0   0   0   0  81 240 253 253 119\n",
            "   25   0   0   0   0   0   0   0   0   0]\n",
            " [  0   0   0   0   0   0   0   0   0   0   0   0   0   0  45 186 253 253\n",
            "  150  27   0   0   0   0   0   0   0   0]\n",
            " [  0   0   0   0   0   0   0   0   0   0   0   0   0   0   0  16  93 252\n",
            "  253 187   0   0   0   0   0   0   0   0]\n",
            " [  0   0   0   0   0   0   0   0   0   0   0   0   0   0   0   0   0 249\n",
            "  253 249  64   0   0   0   0   0   0   0]\n",
            " [  0   0   0   0   0   0   0   0   0   0   0   0   0   0  46 130 183 253\n",
            "  253 207   2   0   0   0   0   0   0   0]\n",
            " [  0   0   0   0   0   0   0   0   0   0   0   0  39 148 229 253 253 253\n",
            "  250 182   0   0   0   0   0   0   0   0]\n",
            " [  0   0   0   0   0   0   0   0   0   0  24 114 221 253 253 253 253 201\n",
            "   78   0   0   0   0   0   0   0   0   0]\n",
            " [  0   0   0   0   0   0   0   0  23  66 213 253 253 253 253 198  81   2\n",
            "    0   0   0   0   0   0   0   0   0   0]\n",
            " [  0   0   0   0   0   0  18 171 219 253 253 253 253 195  80   9   0   0\n",
            "    0   0   0   0   0   0   0   0   0   0]\n",
            " [  0   0   0   0  55 172 226 253 253 253 253 244 133  11   0   0   0   0\n",
            "    0   0   0   0   0   0   0   0   0   0]\n",
            " [  0   0   0   0 136 253 253 253 212 135 132  16   0   0   0   0   0   0\n",
            "    0   0   0   0   0   0   0   0   0   0]\n",
            " [  0   0   0   0   0   0   0   0   0   0   0   0   0   0   0   0   0   0\n",
            "    0   0   0   0   0   0   0   0   0   0]\n",
            " [  0   0   0   0   0   0   0   0   0   0   0   0   0   0   0   0   0   0\n",
            "    0   0   0   0   0   0   0   0   0   0]\n",
            " [  0   0   0   0   0   0   0   0   0   0   0   0   0   0   0   0   0   0\n",
            "    0   0   0   0   0   0   0   0   0   0]]\n"
          ]
        }
      ]
    },
    {
      "cell_type": "markdown",
      "source": [
        "### ***Data pre-processing***\n",
        "\n",
        "\n"
      ],
      "metadata": {
        "id": "Mbhq4cRgvFjx"
      }
    },
    {
      "cell_type": "code",
      "source": [
        "##Normalizing the training data\n",
        "x_train=tf.keras.utils.normalize(x_train, axis=1)\n",
        "x_test=tf.keras.utils.normalize(x_test, axis=1)\n",
        "plt.imshow(x_train[0],cmap=plt.cm.binary)"
      ],
      "metadata": {
        "colab": {
          "base_uri": "https://localhost:8080/",
          "height": 282
        },
        "id": "z5GsZOQ5_KHq",
        "outputId": "f121d48b-655f-487b-b4e3-71a4b4054a52"
      },
      "execution_count": 9,
      "outputs": [
        {
          "output_type": "execute_result",
          "data": {
            "text/plain": [
              "<matplotlib.image.AxesImage at 0x7f779ab1a6d0>"
            ]
          },
          "metadata": {},
          "execution_count": 9
        },
        {
          "output_type": "display_data",
          "data": {
            "text/plain": [
              "<Figure size 432x288 with 1 Axes>"
            ],
            "image/png": "[encoded data removed]"
          },
          "metadata": {
            "needs_background": "light"
          }
        }
      ]
    },
    {
      "cell_type": "code",
      "source": [
        "print(y_train[0])"
      ],
      "metadata": {
        "colab": {
          "base_uri": "https://localhost:8080/"
        },
        "id": "tqD8wMN0-MPv",
        "outputId": "3dae67bf-c86b-4537-b348-a35667d3f92d"
      },
      "execution_count": 10,
      "outputs": [
        {
          "output_type": "stream",
          "name": "stdout",
          "text": [
            "5\n"
          ]
        }
      ]
    },
    {
      "cell_type": "code",
      "source": [
        "##reshaping the input image\n",
        "img_size=28\n",
        "x_trainr=np.array(x_train).reshape(-1,img_size,img_size,1)\n",
        "x_testr=np.array(x_test).reshape(-1,img_size,img_size,1)\n",
        "print(\"The training resized-image dimension is \", x_trainr.shape)\n",
        "print(\"The testing resized-image dimension is \", x_testr.shape)"
      ],
      "metadata": {
        "colab": {
          "base_uri": "https://localhost:8080/"
        },
        "id": "IMERYhV4AKyf",
        "outputId": "42b967ca-4ba9-4ad5-a052-8b42bff9e58b"
      },
      "execution_count": 11,
      "outputs": [
        {
          "output_type": "stream",
          "name": "stdout",
          "text": [
            "The training resized-image dimension is  (60000, 28, 28, 1)\n",
            "The testing resized-image dimension is  (10000, 28, 28, 1)\n"
          ]
        }
      ]
    },
    {
      "cell_type": "markdown",
      "source": [
        "###***Creating the model(CNN)***"
      ],
      "metadata": {
        "id": "omc9ck4IwvsN"
      }
    },
    {
      "cell_type": "code",
      "source": [
        "##CNN Model\n",
        "model= Sequential()\n",
        "#First conv layer\n",
        "model.add(Conv2D(64,(3,3),input_shape=x_trainr.shape[1:]))\n",
        "model.add(Activation(\"relu\"))\n",
        "model.add(MaxPooling2D(pool_size=(2,2)))\n",
        "##Second conv layer\n",
        "model.add(Conv2D(64,(3,3)))\n",
        "model.add(Activation(\"relu\"))\n",
        "model.add(MaxPooling2D(pool_size=(2,2)))\n",
        "##Third conv layer\n",
        "model.add(Conv2D(64,(3,3)))\n",
        "model.add(Activation(\"relu\"))\n",
        "model.add(MaxPooling2D(pool_size=(2,2)))\n",
        "##First fully connected layer\n",
        "model.add(Flatten())\n",
        "model.add(Dense(64))\n",
        "model.add(Activation(\"relu\"))\n",
        "##Second fc\n",
        "model.add(Dense(32))\n",
        "model.add(Activation(\"relu\"))\n",
        "##Third fc\n",
        "model.add(Dense(10)) ##Output is 10-classes\n",
        "model.add(Activation(\"softmax\"))"
      ],
      "metadata": {
        "id": "Naj5fff6C7TF"
      },
      "execution_count": 12,
      "outputs": []
    },
    {
      "cell_type": "code",
      "source": [
        "model.summary()"
      ],
      "metadata": {
        "colab": {
          "base_uri": "https://localhost:8080/"
        },
        "id": "_pfDoXyGH7sI",
        "outputId": "75dabbf8-4e6d-4136-f0a8-e002b5809af4"
      },
      "execution_count": 13,
      "outputs": [
        {
          "output_type": "stream",
          "name": "stdout",
          "text": [
            "Model: \"sequential\"\n",
            "_________________________________________________________________\n",
            " Layer (type)                Output Shape              Param #   \n",
            "=================================================================\n",
            " conv2d (Conv2D)             (None, 26, 26, 64)        640       \n",
            "                                                                 \n",
            " activation (Activation)     (None, 26, 26, 64)        0         \n",
            "                                                                 \n",
            " max_pooling2d (MaxPooling2D  (None, 13, 13, 64)       0         \n",
            " )                                                               \n",
            "                                                                 \n",
            " conv2d_1 (Conv2D)           (None, 11, 11, 64)        36928     \n",
            "                                                                 \n",
            " activation_1 (Activation)   (None, 11, 11, 64)        0         \n",
            "                                                                 \n",
            " max_pooling2d_1 (MaxPooling  (None, 5, 5, 64)         0         \n",
            " 2D)                                                             \n",
            "                                                                 \n",
            " conv2d_2 (Conv2D)           (None, 3, 3, 64)          36928     \n",
            "                                                                 \n",
            " activation_2 (Activation)   (None, 3, 3, 64)          0         \n",
            "                                                                 \n",
            " max_pooling2d_2 (MaxPooling  (None, 1, 1, 64)         0         \n",
            " 2D)                                                             \n",
            "                                                                 \n",
            " flatten (Flatten)           (None, 64)                0         \n",
            "                                                                 \n",
            " dense (Dense)               (None, 64)                4160      \n",
            "                                                                 \n",
            " activation_3 (Activation)   (None, 64)                0         \n",
            "                                                                 \n",
            " dense_1 (Dense)             (None, 32)                2080      \n",
            "                                                                 \n",
            " activation_4 (Activation)   (None, 32)                0         \n",
            "                                                                 \n",
            " dense_2 (Dense)             (None, 10)                330       \n",
            "                                                                 \n",
            " activation_5 (Activation)   (None, 10)                0         \n",
            "                                                                 \n",
            "=================================================================\n",
            "Total params: 81,066\n",
            "Trainable params: 81,066\n",
            "Non-trainable params: 0\n",
            "_________________________________________________________________\n"
          ]
        }
      ]
    },
    {
      "cell_type": "code",
      "source": [
        "print(len(x_trainr))"
      ],
      "metadata": {
        "colab": {
          "base_uri": "https://localhost:8080/"
        },
        "id": "sKC2mGf0DDxY",
        "outputId": "693fec71-e7e7-45ec-8867-02e664f327c0"
      },
      "execution_count": 14,
      "outputs": [
        {
          "output_type": "stream",
          "name": "stdout",
          "text": [
            "60000\n"
          ]
        }
      ]
    },
    {
      "cell_type": "markdown",
      "source": [
        "###***Setting the value for important model parameters***"
      ],
      "metadata": {
        "id": "DtMfCAYjw3ta"
      }
    },
    {
      "cell_type": "code",
      "source": [
        "model.compile(loss=\"sparse_categorical_crossentropy\", optimizer=\"adam\",metrics=[\"accuracy\"])"
      ],
      "metadata": {
        "id": "N3oMypf3IQ-_"
      },
      "execution_count": 15,
      "outputs": []
    },
    {
      "cell_type": "markdown",
      "source": [
        "###***Model Training***"
      ],
      "metadata": {
        "id": "i3S_A2bnxCuH"
      }
    },
    {
      "cell_type": "code",
      "source": [
        "model.fit(x_trainr,y_train,epochs=16,validation_split=0.3)"
      ],
      "metadata": {
        "colab": {
          "base_uri": "https://localhost:8080/"
        },
        "id": "I8xR4ZeeIqSH",
        "outputId": "e81bc735-23b8-4daa-8370-82d08a955a64"
      },
      "execution_count": 16,
      "outputs": [
        {
          "output_type": "stream",
          "name": "stdout",
          "text": [
            "Epoch 1/16\n",
            "1313/1313 [==============================] - 15s 5ms/step - loss: 0.3201 - accuracy: 0.8975 - val_loss: 0.1543 - val_accuracy: 0.9531\n",
            "Epoch 2/16\n",
            "1313/1313 [==============================] - 6s 5ms/step - loss: 0.1039 - accuracy: 0.9684 - val_loss: 0.1032 - val_accuracy: 0.9695\n",
            "Epoch 3/16\n",
            "1313/1313 [==============================] - 6s 5ms/step - loss: 0.0730 - accuracy: 0.9768 - val_loss: 0.0702 - val_accuracy: 0.9781\n",
            "Epoch 4/16\n",
            "1313/1313 [==============================] - 9s 7ms/step - loss: 0.0594 - accuracy: 0.9810 - val_loss: 0.0718 - val_accuracy: 0.9784\n",
            "Epoch 5/16\n",
            "1313/1313 [==============================] - 9s 7ms/step - loss: 0.0466 - accuracy: 0.9852 - val_loss: 0.0748 - val_accuracy: 0.9775\n",
            "Epoch 6/16\n",
            "1313/1313 [==============================] - 6s 5ms/step - loss: 0.0393 - accuracy: 0.9873 - val_loss: 0.0869 - val_accuracy: 0.9758\n",
            "Epoch 7/16\n",
            "1313/1313 [==============================] - 6s 5ms/step - loss: 0.0321 - accuracy: 0.9897 - val_loss: 0.0858 - val_accuracy: 0.9779\n",
            "Epoch 8/16\n",
            "1313/1313 [==============================] - 8s 6ms/step - loss: 0.0273 - accuracy: 0.9911 - val_loss: 0.0641 - val_accuracy: 0.9827\n",
            "Epoch 9/16\n",
            "1313/1313 [==============================] - 9s 7ms/step - loss: 0.0238 - accuracy: 0.9925 - val_loss: 0.0634 - val_accuracy: 0.9842\n",
            "Epoch 10/16\n",
            "1313/1313 [==============================] - 7s 6ms/step - loss: 0.0182 - accuracy: 0.9941 - val_loss: 0.0623 - val_accuracy: 0.9846\n",
            "Epoch 11/16\n",
            "1313/1313 [==============================] - 7s 5ms/step - loss: 0.0172 - accuracy: 0.9940 - val_loss: 0.0631 - val_accuracy: 0.9846\n",
            "Epoch 12/16\n",
            "1313/1313 [==============================] - 6s 5ms/step - loss: 0.0148 - accuracy: 0.9947 - val_loss: 0.0682 - val_accuracy: 0.9840\n",
            "Epoch 13/16\n",
            "1313/1313 [==============================] - 6s 5ms/step - loss: 0.0155 - accuracy: 0.9951 - val_loss: 0.0665 - val_accuracy: 0.9832\n",
            "Epoch 14/16\n",
            "1313/1313 [==============================] - 7s 5ms/step - loss: 0.0120 - accuracy: 0.9958 - val_loss: 0.0870 - val_accuracy: 0.9807\n",
            "Epoch 15/16\n",
            "1313/1313 [==============================] - 8s 6ms/step - loss: 0.0120 - accuracy: 0.9959 - val_loss: 0.0747 - val_accuracy: 0.9840\n",
            "Epoch 16/16\n",
            "1313/1313 [==============================] - 6s 5ms/step - loss: 0.0124 - accuracy: 0.9957 - val_loss: 0.0754 - val_accuracy: 0.9837\n"
          ]
        },
        {
          "output_type": "execute_result",
          "data": {
            "text/plain": [
              "<keras.callbacks.History at 0x7f780ca83130>"
            ]
          },
          "metadata": {},
          "execution_count": 16
        }
      ]
    },
    {
      "cell_type": "code",
      "source": [
        "##Evaluating the model\n",
        "test_loss, test_acc= model.evaluate(x_testr,y_test)\n",
        "print(\"Test loss on 10,000 test samples\", test_loss)\n",
        "print(\"Validation accuracy is \", test_acc)"
      ],
      "metadata": {
        "colab": {
          "base_uri": "https://localhost:8080/"
        },
        "id": "Bs-Y1J0sKX0R",
        "outputId": "24a4d123-cb4c-4e22-a01e-6ea30cebc0d0"
      },
      "execution_count": 17,
      "outputs": [
        {
          "output_type": "stream",
          "name": "stdout",
          "text": [
            "313/313 [==============================] - 1s 3ms/step - loss: 0.0725 - accuracy: 0.9836\n",
            "Test loss on 10,000 test samples 0.07254735380411148\n",
            "Validation accuracy is  0.9836000204086304\n"
          ]
        }
      ]
    },
    {
      "cell_type": "code",
      "source": [
        "##Using the model for prediction on test samples\n",
        "prediction=model.predict([x_test])"
      ],
      "metadata": {
        "colab": {
          "base_uri": "https://localhost:8080/"
        },
        "id": "r4D5BOR3K6LS",
        "outputId": "593c65d3-15dd-4212-c5a0-6fc31643edb6"
      },
      "execution_count": 18,
      "outputs": [
        {
          "output_type": "stream",
          "name": "stdout",
          "text": [
            "313/313 [==============================] - 1s 2ms/step\n"
          ]
        }
      ]
    },
    {
      "cell_type": "code",
      "source": [
        "print(prediction)"
      ],
      "metadata": {
        "colab": {
          "base_uri": "https://localhost:8080/"
        },
        "id": "4Pdv9O2CLtSE",
        "outputId": "4108b9f4-83a8-4f69-c3c0-db377164196d"
      },
      "execution_count": 19,
      "outputs": [
        {
          "output_type": "stream",
          "name": "stdout",
          "text": [
            "[[1.3845615e-11 6.0525417e-07 1.4054610e-08 ... 9.9999917e-01\n",
            "  3.3466615e-11 1.3889013e-08]\n",
            " [4.2283417e-09 3.1583822e-09 1.0000000e+00 ... 3.7671040e-09\n",
            "  2.8654901e-09 1.1176750e-10]\n",
            " [3.0452998e-08 9.9999988e-01 9.5276100e-08 ... 2.1669752e-08\n",
            "  1.1496146e-08 5.8708566e-11]\n",
            " ...\n",
            " [9.1136870e-16 3.1614225e-11 1.6099292e-12 ... 1.6652672e-10\n",
            "  1.0235139e-10 1.3823152e-10]\n",
            " [1.5472223e-07 9.8751651e-10 6.6542807e-15 ... 1.8016540e-12\n",
            "  1.0939478e-07 6.2283338e-09]\n",
            " [4.6215680e-09 1.0510252e-08 8.2455281e-10 ... 5.5675499e-11\n",
            "  7.0540729e-08 3.3672166e-11]]\n"
          ]
        }
      ]
    },
    {
      "cell_type": "markdown",
      "source": [
        "###***Visualization of the prediction output of testing samples***"
      ],
      "metadata": {
        "id": "myHpxMhwyigm"
      }
    },
    {
      "cell_type": "code",
      "source": [
        "fig, ax=plt.subplots(3,3)\n",
        "ax[0][0].imshow(x_test[0]);\n",
        "ax[0][0].set_title(f\"prediction:{np.argmax(prediction[0])}\");\n",
        "ax[0][0].axis(\"off\");\n",
        "ax[0][1].imshow(x_test[1]);\n",
        "ax[0][1].set_title(f\"prediction:{np.argmax(prediction[1])}\");\n",
        "ax[0][1].axis(\"off\");\n",
        "ax[0][2].imshow(x_test[2]);\n",
        "ax[0][2].set_title(f\"prediction:{np.argmax(prediction[2])}\");\n",
        "ax[0][2].axis(\"off\");\n",
        "ax[1][0].imshow(x_test[3]);\n",
        "ax[1][0].set_title(f\"prediction:{np.argmax(prediction[3])}\");\n",
        "ax[1][0].axis(\"off\");\n",
        "ax[1][1].imshow(x_test[240]);\n",
        "ax[1][1].set_title(f\"prediction:{np.argmax(prediction[240])}\");\n",
        "ax[1][1].axis(\"off\");\n",
        "ax[1][2].imshow(x_test[300]);\n",
        "ax[1][2].set_title(f\"prediction:{np.argmax(prediction[300])}\");\n",
        "ax[1][2].axis(\"off\");\n",
        "ax[2][0].imshow(x_test[7]);\n",
        "ax[2][0].set_title(f\"prediction:{np.argmax(prediction[7])}\");\n",
        "ax[2][0].axis(\"off\");\n",
        "ax[2][1].imshow(x_test[81]);\n",
        "ax[2][1].set_title(f\"prediction:{np.argmax(prediction[81])}\");\n",
        "ax[2][1].axis(\"off\");\n",
        "ax[2][2].imshow(x_test[30]);\n",
        "ax[2][2].set_title(f\"prediction:{np.argmax(prediction[30])}\");\n",
        "ax[2][2].axis(\"off\");\n",
        "fig,ax=plt.subplots(1,1)\n",
        "ax.imshow(x_test[84]);\n",
        "ax.set_title(f\"prediction:{np.argmax(prediction[84])}\");\n",
        "ax.axis(\"off\");"
      ],
      "metadata": {
        "colab": {
          "base_uri": "https://localhost:8080/",
          "height": 511
        },
        "id": "BNNZbGlXOGkC",
        "outputId": "10719268-960a-4811-bbdd-b7d3f375f677"
      },
      "execution_count": 34,
      "outputs": [
        {
          "output_type": "display_data",
          "data": {
            "text/plain": [
              "<Figure size 432x288 with 9 Axes>"
            ],
            "image/png": "[encoded data removed]"
          },
          "metadata": {
            "needs_background": "light"
          }
        },
        {
          "output_type": "display_data",
          "data": {
            "text/plain": [
              "<Figure size 432x288 with 1 Axes>"
            ],
            "image/png": "[encoded data removed]"
          },
          "metadata": {
            "needs_background": "light"
          }
        }
      ]
    }
  ]
}